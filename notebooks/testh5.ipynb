{
 "cells": [
  {
   "cell_type": "code",
   "execution_count": 4,
   "metadata": {},
   "outputs": [
    {
     "ename": "ValueError",
     "evalue": "operands could not be broadcast together with shapes (2,) (3,) ",
     "output_type": "error",
     "traceback": [
      "\u001b[1;31m---------------------------------------------------------------------------\u001b[0m",
      "\u001b[1;31mValueError\u001b[0m                                Traceback (most recent call last)",
      "Cell \u001b[1;32mIn[4], line 46\u001b[0m\n\u001b[0;32m     43\u001b[0m \u001b[38;5;28;01mfor\u001b[39;00m cell \u001b[38;5;129;01min\u001b[39;00m mesh\u001b[38;5;241m.\u001b[39mcells():\n\u001b[0;32m     44\u001b[0m     \u001b[38;5;66;03m# Calculate the mean conductivity for the cell's nodes\u001b[39;00m\n\u001b[0;32m     45\u001b[0m     cell_nodes \u001b[38;5;241m=\u001b[39m cell\u001b[38;5;241m.\u001b[39mnodes()\n\u001b[1;32m---> 46\u001b[0m     node_indices \u001b[38;5;241m=\u001b[39m \u001b[43m[\u001b[49m\u001b[38;5;28;43mlist\u001b[39;49m\u001b[43m(\u001b[49m\u001b[43mpoints\u001b[49m\u001b[43m)\u001b[49m\u001b[38;5;241;43m.\u001b[39;49m\u001b[43mindex\u001b[49m\u001b[43m(\u001b[49m\u001b[43mnode\u001b[49m\u001b[38;5;241;43m.\u001b[39;49m\u001b[43mpos\u001b[49m\u001b[43m(\u001b[49m\u001b[43m)\u001b[49m\u001b[43m)\u001b[49m\u001b[43m \u001b[49m\u001b[38;5;28;43;01mfor\u001b[39;49;00m\u001b[43m \u001b[49m\u001b[43mnode\u001b[49m\u001b[43m \u001b[49m\u001b[38;5;129;43;01min\u001b[39;49;00m\u001b[43m \u001b[49m\u001b[43mcell_nodes\u001b[49m\u001b[43m]\u001b[49m\n\u001b[0;32m     47\u001b[0m     cell_conductivity \u001b[38;5;241m=\u001b[39m np\u001b[38;5;241m.\u001b[39mmean([conductivity[i] \u001b[38;5;28;01mfor\u001b[39;00m i \u001b[38;5;129;01min\u001b[39;00m node_indices])\n\u001b[0;32m     48\u001b[0m     cell_values\u001b[38;5;241m.\u001b[39mappend(cell_conductivity)\n",
      "Cell \u001b[1;32mIn[4], line 46\u001b[0m, in \u001b[0;36m<listcomp>\u001b[1;34m(.0)\u001b[0m\n\u001b[0;32m     43\u001b[0m \u001b[38;5;28;01mfor\u001b[39;00m cell \u001b[38;5;129;01min\u001b[39;00m mesh\u001b[38;5;241m.\u001b[39mcells():\n\u001b[0;32m     44\u001b[0m     \u001b[38;5;66;03m# Calculate the mean conductivity for the cell's nodes\u001b[39;00m\n\u001b[0;32m     45\u001b[0m     cell_nodes \u001b[38;5;241m=\u001b[39m cell\u001b[38;5;241m.\u001b[39mnodes()\n\u001b[1;32m---> 46\u001b[0m     node_indices \u001b[38;5;241m=\u001b[39m [\u001b[38;5;28;43mlist\u001b[39;49m\u001b[43m(\u001b[49m\u001b[43mpoints\u001b[49m\u001b[43m)\u001b[49m\u001b[38;5;241;43m.\u001b[39;49m\u001b[43mindex\u001b[49m\u001b[43m(\u001b[49m\u001b[43mnode\u001b[49m\u001b[38;5;241;43m.\u001b[39;49m\u001b[43mpos\u001b[49m\u001b[43m(\u001b[49m\u001b[43m)\u001b[49m\u001b[43m)\u001b[49m \u001b[38;5;28;01mfor\u001b[39;00m node \u001b[38;5;129;01min\u001b[39;00m cell_nodes]\n\u001b[0;32m     47\u001b[0m     cell_conductivity \u001b[38;5;241m=\u001b[39m np\u001b[38;5;241m.\u001b[39mmean([conductivity[i] \u001b[38;5;28;01mfor\u001b[39;00m i \u001b[38;5;129;01min\u001b[39;00m node_indices])\n\u001b[0;32m     48\u001b[0m     cell_values\u001b[38;5;241m.\u001b[39mappend(cell_conductivity)\n",
      "\u001b[1;31mValueError\u001b[0m: operands could not be broadcast together with shapes (2,) (3,) "
     ]
    }
   ],
   "source": [
    "import pygimli as pg\n",
    "import numpy as np\n",
    "import pandas as pd\n",
    "from scipy.spatial import Delaunay\n",
    "\n",
    "# Example dataset with x, z, and conductivity\n",
    "data = pd.DataFrame({\n",
    "    'x': [0, 1, 2, 0, 1, 2],\n",
    "    'z': [0, 0, 0, -1, -1, -1],\n",
    "    'conductivity': [10, 15, 20, 12, 18, 22]\n",
    "})\n",
    "\n",
    "# Extract x, z, and conductivity\n",
    "x = data['x'].values\n",
    "z = data['z'].values\n",
    "conductivity = data['conductivity'].values\n",
    "\n",
    "# Combine x and z into a 2D NumPy array for Delaunay triangulation\n",
    "points = np.column_stack((x, z))  # Ensures points is a 2D NumPy array\n",
    "\n",
    "# Perform Delaunay triangulation\n",
    "tri = Delaunay(points)\n",
    "\n",
    "# Create an unstructured PyGIMLi mesh\n",
    "mesh = pg.Mesh(2)\n",
    "\n",
    "# Add nodes to the mesh\n",
    "node_map = {}\n",
    "for i, point in enumerate(points):\n",
    "    node = mesh.createNode(point)\n",
    "    node_map[i] = node\n",
    "\n",
    "# Add triangles to the mesh\n",
    "for triangle in tri.simplices:\n",
    "    mesh.createTriangle(\n",
    "        node_map[triangle[0]],\n",
    "        node_map[triangle[1]],\n",
    "        node_map[triangle[2]]\n",
    "    )\n",
    "\n",
    "# Assign conductivity values to cells\n",
    "cell_values = []\n",
    "for cell in mesh.cells():\n",
    "    # Calculate the mean conductivity for the cell's nodes\n",
    "    cell_nodes = cell.nodes()\n",
    "    node_indices = [list(points).index(node.pos()) for node in cell_nodes]\n",
    "    cell_conductivity = np.mean([conductivity[i] for i in node_indices])\n",
    "    cell_values.append(cell_conductivity)\n",
    "\n",
    "mesh['conductivity'] = cell_values\n",
    "\n",
    "# Visualize the mesh with conductivity\n",
    "pg.show(mesh, data=mesh['conductivity'], label='Conductivity', cMap='viridis')\n"
   ]
  }
 ],
 "metadata": {
  "kernelspec": {
   "display_name": "default",
   "language": "python",
   "name": "python3"
  },
  "language_info": {
   "codemirror_mode": {
    "name": "ipython",
    "version": 3
   },
   "file_extension": ".py",
   "mimetype": "text/x-python",
   "name": "python",
   "nbconvert_exporter": "python",
   "pygments_lexer": "ipython3",
   "version": "3.11.9"
  }
 },
 "nbformat": 4,
 "nbformat_minor": 2
}
